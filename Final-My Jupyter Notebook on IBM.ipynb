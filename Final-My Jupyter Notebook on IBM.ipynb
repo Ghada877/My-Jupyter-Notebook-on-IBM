{
 "cells": [
  {
   "cell_type": "markdown",
   "id": "0302d075-4eca-4056-98c8-aaf1562da764",
   "metadata": {},
   "source": [
    "## My Jupyter Notebook on IBM Watson Studio"
   ]
  },
  {
   "cell_type": "markdown",
   "id": "915801f7-0957-46a6-a197-5054cf0ec754",
   "metadata": {},
   "source": [
    "**Ghada**\n",
    "Sales Analist"
   ]
  },
  {
   "cell_type": "markdown",
   "id": "5bee9fa5-40ea-4bc1-a5d5-c1fe373b78b1",
   "metadata": {},
   "source": [
    "*I am interested in data science because it can binifit me in my currint jop*"
   ]
  },
  {
   "cell_type": "markdown",
   "id": "104fb506-129b-45f6-8593-901d2e23dea1",
   "metadata": {},
   "source": [
    "## Calculation"
   ]
  },
  {
   "cell_type": "code",
   "execution_count": 2,
   "id": "c8c49f82-92c1-499d-8f2b-da3017a604a6",
   "metadata": {},
   "outputs": [
    {
     "data": {
      "text/plain": [
       "2.0"
      ]
     },
     "execution_count": 2,
     "metadata": {},
     "output_type": "execute_result"
    }
   ],
   "source": [
    "8/4"
   ]
  },
  {
   "cell_type": "markdown",
   "id": "af66f958-b236-4be9-85ac-842a9d0996a7",
   "metadata": {},
   "source": [
    "***\n",
    "* Ghada\n",
    "* Sara\n",
    "1. python\n",
    "2. R\n"
   ]
  },
  {
   "cell_type": "code",
   "execution_count": null,
   "id": "47e6a4d5-2541-41a0-90a6-e8fb981990fc",
   "metadata": {},
   "outputs": [],
   "source": []
  }
 ],
 "metadata": {
  "kernelspec": {
   "display_name": "Python",
   "language": "python",
   "name": "conda-env-python-py"
  },
  "language_info": {
   "codemirror_mode": {
    "name": "ipython",
    "version": 3
   },
   "file_extension": ".py",
   "mimetype": "text/x-python",
   "name": "python",
   "nbconvert_exporter": "python",
   "pygments_lexer": "ipython3",
   "version": "3.7.12"
  },
  "toc-showtags": true
 },
 "nbformat": 4,
 "nbformat_minor": 5
}
